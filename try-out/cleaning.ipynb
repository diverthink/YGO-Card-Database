{
 "cells": [
  {
   "cell_type": "code",
   "execution_count": 81,
   "metadata": {},
   "outputs": [],
   "source": [
    "import numpy as np\n",
    "import pandas as pd\n",
    "import cards_scraping as cs"
   ]
  },
  {
   "cell_type": "code",
   "execution_count": 82,
   "metadata": {},
   "outputs": [],
   "source": [
    "data = cs.make_it_dataframe()\n",
    "data = cs.get_staples(data)"
   ]
  },
  {
   "cell_type": "code",
   "execution_count": 83,
   "metadata": {},
   "outputs": [
    {
     "data": {
      "text/plain": [
       "Index(['id', 'name', 'type', 'desc', 'race', 'card_image', 'card_price',\n",
       "       'up_votes', 'down_votes', 'views', 'atk', 'def', 'level', 'attribute',\n",
       "       'archetype', 'linkval', 'scale', 'tcg_date', 'frameType', 'staple'],\n",
       "      dtype='object')"
      ]
     },
     "execution_count": 83,
     "metadata": {},
     "output_type": "execute_result"
    }
   ],
   "source": [
    "data.columns"
   ]
  },
  {
   "cell_type": "code",
   "execution_count": 84,
   "metadata": {},
   "outputs": [],
   "source": [
    "# Null zu nan fuer bessere uebersicht\n",
    "\n",
    "def change_null_to_nan(df):\n",
    "    data = df\n",
    "    data.replace('null', np.nan, inplace = True)\n",
    "    \n",
    "    return data\n"
   ]
  },
  {
   "cell_type": "code",
   "execution_count": 85,
   "metadata": {},
   "outputs": [],
   "source": [
    "def split_images(df, images=True, only_images=False):\n",
    "    '''\n",
    "    Splits the 'image' column from the original df and adds the 'names' column as a key if wished (default), otherwise it just drops the 'image' column. Don't forget to assign to two variables if images = True. You can also choose to export only an images DataFrame\n",
    "    Params: DataFrame containing 'image' column, Optional: images=True (default), only_images=False (default)\n",
    "    Returns: DataFrame without 'image' column and 'image' column DataFrame with columns 'name' and 'image' (default), if images = False, returns df with dropped 'image' column. If only_images = True, only the image DataFrame is returned.\n",
    "    '''\n",
    "    data = df\n",
    "\n",
    "    if images:\n",
    "        images_new = data[['card_image','name']]\n",
    "\n",
    "    data_non_image = data.drop(columns=['card_image'], axis=1)\n",
    "    \n",
    "    if images == True:\n",
    "        return data_non_image, images_new\n",
    "    \n",
    "    if only_images == True:\n",
    "        return images_new\n",
    "    \n",
    "    return data_non_image\n",
    "\n"
   ]
  },
  {
   "cell_type": "code",
   "execution_count": 86,
   "metadata": {},
   "outputs": [],
   "source": [
    "def drop_ocg(df):\n",
    "    '''\n",
    "    Drops cards that only have OCG printings.\n",
    "    Params: DataFrame containing the card data and tcg_release\n",
    "    Returns: DataFrame with only tcg released cards\n",
    "    '''\n",
    "    data = df\n",
    "    data.dropna(subset=\"tcg_date\", inplace=True)\n",
    "\n",
    "    return data "
   ]
  },
  {
   "cell_type": "code",
   "execution_count": 87,
   "metadata": {},
   "outputs": [],
   "source": [
    "def drop_skillcards(df):\n",
    "    '''\n",
    "    Drops Speed Duel skill cards.\n",
    "    Params: DataFrame containing the card data and card types.\n",
    "    Returns: DataFrame without skill cards\n",
    "    '''\n",
    "    data = df\n",
    "    data = data[data['type'] != \"Skill Card\"]\n",
    "\n",
    "    return data"
   ]
  },
  {
   "cell_type": "code",
   "execution_count": 88,
   "metadata": {},
   "outputs": [],
   "source": [
    "def drop_token(df):\n",
    "    '''\n",
    "    Drops Token Cards.\n",
    "    Params: DataFrame containing the card data and card types.\n",
    "    Returns: DataFrame without Token cards\n",
    "    '''\n",
    "    data = df\n",
    "    data = data[data['type'] != \"Token\"]\n",
    "\n",
    "    return data"
   ]
  },
  {
   "cell_type": "code",
   "execution_count": 89,
   "metadata": {},
   "outputs": [],
   "source": [
    "def adapt_spell_trap(df):\n",
    "    '''\n",
    "    Changes 'atk', 'def', 'level' values of spells and traps to -1, since this is a value that does not exist in game and they should not have these values in the first place.\n",
    "    Params: DataFrame containing the card data and card types.\n",
    "    Returns: DataFrame without changed atk/def for spells and traps.\n",
    "    '''\n",
    "    data = df\n",
    "    data.loc[data['type'].isin(['Spell Card', 'Trap Card']), ['atk', 'def', 'level']] = data.loc[data['type'].isin(['Spell Card', 'Trap Card']), ['atk', 'def', 'level']].fillna(-1) # change numeric values\n",
    "    \n",
    "\n",
    "\n",
    "    return data"
   ]
  },
  {
   "cell_type": "code",
   "execution_count": 90,
   "metadata": {},
   "outputs": [],
   "source": [
    "def adapt_link_related(df):\n",
    "    '''\n",
    "    Adapts everything related to links and link monsters. Changes the level of a linkmonster to 0, sets linkval for everyother card to 0 (which can not be in the game, so indicating that its different). 'def' of linkmonsters set to 0 (as they count as 0 in game per definition).\n",
    "    Params: DataFrame containing the card data and card types.\n",
    "    Returns: DataFrame with 'level', 'def' = 0 for 'Link Monsters' \n",
    "            'linkval' = 0 for non-link monster.\n",
    "    '''\n",
    "\n",
    "    data = df\n",
    "    data.loc[data['type'] == 'Link Monster', ['level', 'def']] = 0\n",
    "    data.loc[data['type'] != 'Link Monster', ['linkval']] = 0\n",
    "\n",
    "    return data\n"
   ]
  },
  {
   "cell_type": "code",
   "execution_count": 91,
   "metadata": {},
   "outputs": [],
   "source": [
    "def adapt_pendulum(df):\n",
    "    '''\n",
    "    Changes scales for non-pendulum monsters and spell/trap cards to -1 indicating they have none, since -1 is a non existent scale in game.\n",
    "    Params: DataFrame containing the card data and card types.\n",
    "    Returns: DataFrame with 'scale' = -1 for non Pendulum Monsters.\n",
    "    '''\n",
    "\n",
    "    data = df\n",
    "    data.loc[data['is_pendulum'] == 0, ['scale']] = -1\n",
    "\n",
    "    return data\n"
   ]
  },
  {
   "cell_type": "code",
   "execution_count": 92,
   "metadata": {},
   "outputs": [],
   "source": [
    "def na_attribute_archetype(df, attribute = True, archetype = True):\n",
    "    '''\n",
    "    Fills missing attribute and/or archetype values with 'None'\n",
    "    Params: DataFrame containing the card data, attribute = True (default), archetype = True (default)\n",
    "    Returns: DataFrame with 'None' where attribute and archetype are non-existent\n",
    "    '''\n",
    "    data = df\n",
    "\n",
    "    if attribute:\n",
    "        data['attribute'] = data['attribute'].fillna('None')\n",
    "    \n",
    "    if archetype:\n",
    "        data['archetype'] = data['archetype'].fillna('None')\n",
    "\n",
    "    return data"
   ]
  },
  {
   "cell_type": "code",
   "execution_count": 93,
   "metadata": {},
   "outputs": [],
   "source": [
    "def staples(df):\n",
    "    '''\n",
    "    Assigns '0' in 'staple', if card is not considered staple.\n",
    "    Params: DataFrame containing the card data\n",
    "    Returns: DataFrame with '0', where 'staple' = NaN\n",
    "    '''\n",
    "    data = df\n",
    "\n",
    "    data['staple'] = data['staple'].fillna(0)\n",
    "\n",
    "    return data\n"
   ]
  },
  {
   "cell_type": "code",
   "execution_count": 94,
   "metadata": {},
   "outputs": [],
   "source": [
    "def correct_dates(df):\n",
    "    data = df\n",
    "    data[\"tcg_date\"] = pd.to_datetime(data[\"tcg_date\"])\n",
    "\n",
    "    return data\n",
    "\n",
    "    "
   ]
  },
  {
   "cell_type": "code",
   "execution_count": 95,
   "metadata": {},
   "outputs": [],
   "source": [
    "# Wir fuegen die Pendelmonster mit dem Rahmen zu ihrem Main Type hinzu und fuehren dann Pendulums nochmal gesondert auf.\n",
    "def _pendulum(x):\n",
    "    if 'pendulum' in x:\n",
    "        return 1\n",
    "    else:\n",
    "        return 0\n",
    "\n",
    "\n",
    "def _strip_pendulum(x):\n",
    "    if '_pendulum' in x:\n",
    "        return x.replace('_pendulum', '')\n",
    "    else:\n",
    "        return x\n",
    "\n",
    "\n",
    "def pend_column(df):\n",
    "    data = df\n",
    "    data['is_pendulum'] = data['frameType'].apply(_pendulum)\n",
    "    return data\n",
    "\n",
    "def pend_into_maintype(df):\n",
    "    data = df\n",
    "    data['frameType'] = data['frameType'].apply(_strip_pendulum)\n",
    "    return data"
   ]
  },
  {
   "cell_type": "code",
   "execution_count": 96,
   "metadata": {},
   "outputs": [],
   "source": [
    "def wholesome_cleaning(df):\n",
    "    '''\n",
    "    Cleans the whole Yu-Gi-Oh Cards Dataframe with default settings of subfunctions.\n",
    "    Params: DataFrame containing the card data.\n",
    "    Returns: DataFrame with cleaned card data and DataFrame containing the image-links with card names.\n",
    "    '''\n",
    "\n",
    "    data_raw = df\n",
    "\n",
    "\n",
    "    data = change_null_to_nan(data_raw)\n",
    "    data, images = split_images(data)\n",
    "    data = drop_ocg(data)\n",
    "    data = drop_skillcards(data)\n",
    "    data = drop_token(data)\n",
    "    data = adapt_spell_trap(data)\n",
    "    data = na_attribute_archetype(data)\n",
    "    data = staples(data)\n",
    "    data = correct_dates(data)\n",
    "\n",
    "    data = pend_column(data)\n",
    "    data = pend_into_maintype(data) \n",
    "\n",
    "\n",
    "    data = adapt_link_related(data)\n",
    "    data = adapt_pendulum(data)\n",
    "    \n",
    "    return data, images"
   ]
  },
  {
   "cell_type": "code",
   "execution_count": 97,
   "metadata": {},
   "outputs": [],
   "source": [
    "def save_data(df=None, image_df=None):\n",
    "    \n",
    "    if df is not None:\n",
    "        df.to_csv(\"data/cards_cleaned.csv\", index=False, sep=\"|\")\n",
    "\n",
    "    if image_df is not None:\n",
    "        image_df.to_csv(\"data/image_links.csv\", index=False, sep=\"|\")\n",
    "\n",
    "    return None\n"
   ]
  },
  {
   "cell_type": "code",
   "execution_count": 98,
   "metadata": {},
   "outputs": [
    {
     "name": "stderr",
     "output_type": "stream",
     "text": [
      "C:\\Users\\diver\\AppData\\Local\\Temp\\ipykernel_32244\\998836820.py:5: FutureWarning: Downcasting behavior in `replace` is deprecated and will be removed in a future version. To retain the old behavior, explicitly call `result.infer_objects(copy=False)`. To opt-in to the future behavior, set `pd.set_option('future.no_silent_downcasting', True)`\n",
      "  data.replace('null', np.nan, inplace = True)\n"
     ]
    }
   ],
   "source": [
    "data, images = wholesome_cleaning(data)"
   ]
  },
  {
   "cell_type": "code",
   "execution_count": 99,
   "metadata": {},
   "outputs": [],
   "source": [
    "save_data(data, images)"
   ]
  },
  {
   "cell_type": "code",
   "execution_count": 100,
   "metadata": {},
   "outputs": [
    {
     "data": {
      "text/plain": [
       "array(['spell', 'effect', 'normal', 'trap', 'fusion', 'link', 'xyz',\n",
       "       'synchro', 'ritual'], dtype=object)"
      ]
     },
     "execution_count": 100,
     "metadata": {},
     "output_type": "execute_result"
    }
   ],
   "source": [
    "data.frameType.unique()"
   ]
  }
 ],
 "metadata": {
  "kernelspec": {
   "display_name": "base",
   "language": "python",
   "name": "python3"
  },
  "language_info": {
   "codemirror_mode": {
    "name": "ipython",
    "version": 3
   },
   "file_extension": ".py",
   "mimetype": "text/x-python",
   "name": "python",
   "nbconvert_exporter": "python",
   "pygments_lexer": "ipython3",
   "version": "3.12.4"
  }
 },
 "nbformat": 4,
 "nbformat_minor": 2
}
